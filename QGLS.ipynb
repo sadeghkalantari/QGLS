{
  "nbformat": 4,
  "nbformat_minor": 0,
  "metadata": {
    "colab": {
      "provenance": []
    },
    "kernelspec": {
      "name": "python3",
      "display_name": "Python 3"
    },
    "language_info": {
      "name": "python"
    }
  },
  "cells": [
    {
      "cell_type": "code",
      "execution_count": 1,
      "metadata": {
        "colab": {
          "base_uri": "https://localhost:8080/"
        },
        "id": "25m1AaPkEuEV",
        "outputId": "8c757bea-dbb1-4632-b5a8-ad1af1d8ee78"
      },
      "outputs": [
        {
          "output_type": "stream",
          "name": "stdout",
          "text": [
            "Looking in indexes: https://pypi.org/simple, https://us-python.pkg.dev/colab-wheels/public/simple/\n",
            "Collecting qiskit\n",
            "  Downloading qiskit-0.42.1.tar.gz (14 kB)\n",
            "  Preparing metadata (setup.py) ... \u001b[?25l\u001b[?25hdone\n",
            "Collecting qiskit-terra==0.23.3\n",
            "  Downloading qiskit_terra-0.23.3-cp310-cp310-manylinux_2_17_x86_64.manylinux2014_x86_64.whl (5.1 MB)\n",
            "\u001b[2K     \u001b[90m━━━━━━━━━━━━━━━━━━━━━━━━━━━━━━━━━━━━━━━━\u001b[0m \u001b[32m5.1/5.1 MB\u001b[0m \u001b[31m19.5 MB/s\u001b[0m eta \u001b[36m0:00:00\u001b[0m\n",
            "\u001b[?25hCollecting qiskit-aer==0.12.0\n",
            "  Downloading qiskit_aer-0.12.0-cp310-cp310-manylinux_2_17_x86_64.manylinux2014_x86_64.whl (12.8 MB)\n",
            "\u001b[2K     \u001b[90m━━━━━━━━━━━━━━━━━━━━━━━━━━━━━━━━━━━━━━━━\u001b[0m \u001b[32m12.8/12.8 MB\u001b[0m \u001b[31m45.2 MB/s\u001b[0m eta \u001b[36m0:00:00\u001b[0m\n",
            "\u001b[?25hCollecting qiskit-ibmq-provider==0.20.2\n",
            "  Downloading qiskit_ibmq_provider-0.20.2-py3-none-any.whl (241 kB)\n",
            "\u001b[2K     \u001b[90m━━━━━━━━━━━━━━━━━━━━━━━━━━━━━━━━━━━━━━\u001b[0m \u001b[32m241.5/241.5 kB\u001b[0m \u001b[31m12.0 MB/s\u001b[0m eta \u001b[36m0:00:00\u001b[0m\n",
            "\u001b[?25hRequirement already satisfied: scipy>=1.0 in /usr/local/lib/python3.10/dist-packages (from qiskit-aer==0.12.0->qiskit) (1.10.1)\n",
            "Requirement already satisfied: numpy>=1.16.3 in /usr/local/lib/python3.10/dist-packages (from qiskit-aer==0.12.0->qiskit) (1.22.4)\n",
            "Collecting websockets>=10.0\n",
            "  Downloading websockets-11.0.2-cp310-cp310-manylinux_2_5_x86_64.manylinux1_x86_64.manylinux_2_17_x86_64.manylinux2014_x86_64.whl (129 kB)\n",
            "\u001b[2K     \u001b[90m━━━━━━━━━━━━━━━━━━━━━━━━━━━━━━━━━━━━━━━\u001b[0m \u001b[32m129.9/129.9 kB\u001b[0m \u001b[31m6.4 MB/s\u001b[0m eta \u001b[36m0:00:00\u001b[0m\n",
            "\u001b[?25hRequirement already satisfied: python-dateutil>=2.8.0 in /usr/local/lib/python3.10/dist-packages (from qiskit-ibmq-provider==0.20.2->qiskit) (2.8.2)\n",
            "Collecting requests-ntlm<=1.1.0\n",
            "  Downloading requests_ntlm-1.1.0-py2.py3-none-any.whl (5.7 kB)\n",
            "Requirement already satisfied: websocket-client>=1.5.1 in /usr/local/lib/python3.10/dist-packages (from qiskit-ibmq-provider==0.20.2->qiskit) (1.5.1)\n",
            "Requirement already satisfied: requests>=2.19 in /usr/local/lib/python3.10/dist-packages (from qiskit-ibmq-provider==0.20.2->qiskit) (2.27.1)\n",
            "Requirement already satisfied: urllib3>=1.21.1 in /usr/local/lib/python3.10/dist-packages (from qiskit-ibmq-provider==0.20.2->qiskit) (1.26.15)\n",
            "Collecting stevedore>=3.0.0\n",
            "  Downloading stevedore-5.0.0-py3-none-any.whl (49 kB)\n",
            "\u001b[2K     \u001b[90m━━━━━━━━━━━━━━━━━━━━━━━━━━━━━━━━━━━━━━━━\u001b[0m \u001b[32m49.6/49.6 kB\u001b[0m \u001b[31m3.1 MB/s\u001b[0m eta \u001b[36m0:00:00\u001b[0m\n",
            "\u001b[?25hCollecting dill>=0.3\n",
            "  Downloading dill-0.3.6-py3-none-any.whl (110 kB)\n",
            "\u001b[2K     \u001b[90m━━━━━━━━━━━━━━━━━━━━━━━━━━━━━━━━━━━━━━━\u001b[0m \u001b[32m110.5/110.5 kB\u001b[0m \u001b[31m5.3 MB/s\u001b[0m eta \u001b[36m0:00:00\u001b[0m\n",
            "\u001b[?25hRequirement already satisfied: psutil>=5 in /usr/local/lib/python3.10/dist-packages (from qiskit-terra==0.23.3->qiskit) (5.9.5)\n",
            "Collecting rustworkx>=0.12.0\n",
            "  Downloading rustworkx-0.12.1-cp310-cp310-manylinux_2_17_x86_64.manylinux2014_x86_64.whl (1.9 MB)\n",
            "\u001b[2K     \u001b[90m━━━━━━━━━━━━━━━━━━━━━━━━━━━━━━━━━━━━━━━━\u001b[0m \u001b[32m1.9/1.9 MB\u001b[0m \u001b[31m19.3 MB/s\u001b[0m eta \u001b[36m0:00:00\u001b[0m\n",
            "\u001b[?25hRequirement already satisfied: sympy>=1.3 in /usr/local/lib/python3.10/dist-packages (from qiskit-terra==0.23.3->qiskit) (1.11.1)\n",
            "Collecting ply>=3.10\n",
            "  Downloading ply-3.11-py2.py3-none-any.whl (49 kB)\n",
            "\u001b[2K     \u001b[90m━━━━━━━━━━━━━━━━━━━━━━━━━━━━━━━━━━━━━━━━\u001b[0m \u001b[32m49.6/49.6 kB\u001b[0m \u001b[31m2.9 MB/s\u001b[0m eta \u001b[36m0:00:00\u001b[0m\n",
            "\u001b[?25hCollecting symengine>=0.9\n",
            "  Downloading symengine-0.10.0-cp310-cp310-manylinux_2_12_x86_64.manylinux2010_x86_64.whl (37.4 MB)\n",
            "\u001b[2K     \u001b[90m━━━━━━━━━━━━━━━━━━━━━━━━━━━━━━━━━━━━━━━━\u001b[0m \u001b[32m37.4/37.4 MB\u001b[0m \u001b[31m9.5 MB/s\u001b[0m eta \u001b[36m0:00:00\u001b[0m\n",
            "\u001b[?25hRequirement already satisfied: six>=1.5 in /usr/local/lib/python3.10/dist-packages (from python-dateutil>=2.8.0->qiskit-ibmq-provider==0.20.2->qiskit) (1.16.0)\n",
            "Requirement already satisfied: certifi>=2017.4.17 in /usr/local/lib/python3.10/dist-packages (from requests>=2.19->qiskit-ibmq-provider==0.20.2->qiskit) (2022.12.7)\n",
            "Requirement already satisfied: idna<4,>=2.5 in /usr/local/lib/python3.10/dist-packages (from requests>=2.19->qiskit-ibmq-provider==0.20.2->qiskit) (3.4)\n",
            "Requirement already satisfied: charset-normalizer~=2.0.0 in /usr/local/lib/python3.10/dist-packages (from requests>=2.19->qiskit-ibmq-provider==0.20.2->qiskit) (2.0.12)\n",
            "Collecting ntlm-auth>=1.0.2\n",
            "  Downloading ntlm_auth-1.5.0-py2.py3-none-any.whl (29 kB)\n",
            "Requirement already satisfied: cryptography>=1.3 in /usr/local/lib/python3.10/dist-packages (from requests-ntlm<=1.1.0->qiskit-ibmq-provider==0.20.2->qiskit) (40.0.2)\n",
            "Collecting pbr!=2.1.0,>=2.0.0\n",
            "  Downloading pbr-5.11.1-py2.py3-none-any.whl (112 kB)\n",
            "\u001b[2K     \u001b[90m━━━━━━━━━━━━━━━━━━━━━━━━━━━━━━━━━━━━━━━\u001b[0m \u001b[32m112.7/112.7 kB\u001b[0m \u001b[31m8.0 MB/s\u001b[0m eta \u001b[36m0:00:00\u001b[0m\n",
            "\u001b[?25hRequirement already satisfied: mpmath>=0.19 in /usr/local/lib/python3.10/dist-packages (from sympy>=1.3->qiskit-terra==0.23.3->qiskit) (1.3.0)\n",
            "Requirement already satisfied: cffi>=1.12 in /usr/local/lib/python3.10/dist-packages (from cryptography>=1.3->requests-ntlm<=1.1.0->qiskit-ibmq-provider==0.20.2->qiskit) (1.15.1)\n",
            "Requirement already satisfied: pycparser in /usr/local/lib/python3.10/dist-packages (from cffi>=1.12->cryptography>=1.3->requests-ntlm<=1.1.0->qiskit-ibmq-provider==0.20.2->qiskit) (2.21)\n",
            "Building wheels for collected packages: qiskit\n",
            "  Building wheel for qiskit (setup.py) ... \u001b[?25l\u001b[?25hdone\n",
            "  Created wheel for qiskit: filename=qiskit-0.42.1-py3-none-any.whl size=12938 sha256=a64364fdb23752a813b3ffd149e970a7813ea5ca03ea4a5b06968ce2a4c9ed0e\n",
            "  Stored in directory: /root/.cache/pip/wheels/99/db/fa/cd33542aa8da5d5a2978cf2683dabf2ae67c732185a5cdb5a4\n",
            "Successfully built qiskit\n",
            "Installing collected packages: ply, websockets, symengine, rustworkx, pbr, ntlm-auth, dill, stevedore, requests-ntlm, qiskit-terra, qiskit-ibmq-provider, qiskit-aer, qiskit\n",
            "Successfully installed dill-0.3.6 ntlm-auth-1.5.0 pbr-5.11.1 ply-3.11 qiskit-0.42.1 qiskit-aer-0.12.0 qiskit-ibmq-provider-0.20.2 qiskit-terra-0.23.3 requests-ntlm-1.1.0 rustworkx-0.12.1 stevedore-5.0.0 symengine-0.10.0 websockets-11.0.2\n"
          ]
        }
      ],
      "source": [
        "!pip install qiskit"
      ]
    },
    {
      "cell_type": "code",
      "source": [
        "pip install git+https://github.com/anedumla/quantum_linear_solvers"
      ],
      "metadata": {
        "colab": {
          "base_uri": "https://localhost:8080/"
        },
        "id": "R1GlQxG1FxP4",
        "outputId": "b12fd550-7ab1-485f-8890-1489f09949cc"
      },
      "execution_count": 4,
      "outputs": [
        {
          "output_type": "stream",
          "name": "stdout",
          "text": [
            "Looking in indexes: https://pypi.org/simple, https://us-python.pkg.dev/colab-wheels/public/simple/\n",
            "Collecting git+https://github.com/anedumla/quantum_linear_solvers\n",
            "  Cloning https://github.com/anedumla/quantum_linear_solvers to /tmp/pip-req-build-tyin0jv0\n",
            "  Running command git clone --filter=blob:none --quiet https://github.com/anedumla/quantum_linear_solvers /tmp/pip-req-build-tyin0jv0\n",
            "  Resolved https://github.com/anedumla/quantum_linear_solvers to commit 08bf4f6673308568b5654e5d3fde9f8df5d887d7\n",
            "  Installing build dependencies ... \u001b[?25l\u001b[?25hdone\n",
            "  Getting requirements to build wheel ... \u001b[?25l\u001b[?25hdone\n",
            "  Installing backend dependencies ... \u001b[?25l\u001b[?25hdone\n",
            "  Preparing metadata (pyproject.toml) ... \u001b[?25l\u001b[?25hdone\n",
            "Requirement already satisfied: qiskit-ibmq-provider in /usr/local/lib/python3.10/dist-packages (from quantum-linear-solvers==0.1.dev5+g08bf4f6) (0.20.2)\n",
            "Collecting mthree==0.24\n",
            "  Downloading mthree-0.24.0-cp310-cp310-manylinux_2_17_x86_64.manylinux2014_x86_64.whl (3.4 MB)\n",
            "\u001b[2K     \u001b[90m━━━━━━━━━━━━━━━━━━━━━━━━━━━━━━━━━━━━━━━━\u001b[0m \u001b[32m3.4/3.4 MB\u001b[0m \u001b[31m33.9 MB/s\u001b[0m eta \u001b[36m0:00:00\u001b[0m\n",
            "\u001b[?25hCollecting pylatexenc\n",
            "  Downloading pylatexenc-2.10.tar.gz (162 kB)\n",
            "\u001b[2K     \u001b[90m━━━━━━━━━━━━━━━━━━━━━━━━━━━━━━━━━━━━━━\u001b[0m \u001b[32m162.6/162.6 kB\u001b[0m \u001b[31m15.0 MB/s\u001b[0m eta \u001b[36m0:00:00\u001b[0m\n",
            "\u001b[?25h  Preparing metadata (setup.py) ... \u001b[?25l\u001b[?25hdone\n",
            "Collecting mapomatic==0.6\n",
            "  Downloading mapomatic-0.6.0.tar.gz (12 kB)\n",
            "  Preparing metadata (setup.py) ... \u001b[?25l\u001b[?25hdone\n",
            "Requirement already satisfied: qiskit-aer in /usr/local/lib/python3.10/dist-packages (from quantum-linear-solvers==0.1.dev5+g08bf4f6) (0.12.0)\n",
            "Collecting importlib-metadata\n",
            "  Downloading importlib_metadata-6.6.0-py3-none-any.whl (22 kB)\n",
            "Requirement already satisfied: qiskit-terra>=0.21 in /usr/local/lib/python3.10/dist-packages (from quantum-linear-solvers==0.1.dev5+g08bf4f6) (0.23.3)\n",
            "Collecting retworkx>=0.10.2\n",
            "  Downloading retworkx-0.12.1-py3-none-any.whl (10 kB)\n",
            "Requirement already satisfied: scipy>=1.3 in /usr/local/lib/python3.10/dist-packages (from mthree==0.24->quantum-linear-solvers==0.1.dev5+g08bf4f6) (1.10.1)\n",
            "Requirement already satisfied: numpy>=1.17 in /usr/local/lib/python3.10/dist-packages (from mthree==0.24->quantum-linear-solvers==0.1.dev5+g08bf4f6) (1.22.4)\n",
            "Requirement already satisfied: psutil in /usr/local/lib/python3.10/dist-packages (from mthree==0.24->quantum-linear-solvers==0.1.dev5+g08bf4f6) (5.9.5)\n",
            "Collecting orjson>=3.0.0\n",
            "  Downloading orjson-3.8.11-cp310-cp310-manylinux_2_28_x86_64.whl (135 kB)\n",
            "\u001b[2K     \u001b[90m━━━━━━━━━━━━━━━━━━━━━━━━━━━━━━━━━━━━━━\u001b[0m \u001b[32m135.6/135.6 kB\u001b[0m \u001b[31m13.9 MB/s\u001b[0m eta \u001b[36m0:00:00\u001b[0m\n",
            "\u001b[?25hRequirement already satisfied: cython>=0.29 in /usr/local/lib/python3.10/dist-packages (from mthree==0.24->quantum-linear-solvers==0.1.dev5+g08bf4f6) (0.29.34)\n",
            "Requirement already satisfied: urllib3>=1.21.1 in /usr/local/lib/python3.10/dist-packages (from qiskit-ibmq-provider->quantum-linear-solvers==0.1.dev5+g08bf4f6) (1.26.15)\n",
            "Requirement already satisfied: python-dateutil>=2.8.0 in /usr/local/lib/python3.10/dist-packages (from qiskit-ibmq-provider->quantum-linear-solvers==0.1.dev5+g08bf4f6) (2.8.2)\n",
            "Requirement already satisfied: requests-ntlm<=1.1.0 in /usr/local/lib/python3.10/dist-packages (from qiskit-ibmq-provider->quantum-linear-solvers==0.1.dev5+g08bf4f6) (1.1.0)\n",
            "Requirement already satisfied: websockets>=10.0 in /usr/local/lib/python3.10/dist-packages (from qiskit-ibmq-provider->quantum-linear-solvers==0.1.dev5+g08bf4f6) (11.0.2)\n",
            "Requirement already satisfied: requests>=2.19 in /usr/local/lib/python3.10/dist-packages (from qiskit-ibmq-provider->quantum-linear-solvers==0.1.dev5+g08bf4f6) (2.27.1)\n",
            "Requirement already satisfied: websocket-client>=1.5.1 in /usr/local/lib/python3.10/dist-packages (from qiskit-ibmq-provider->quantum-linear-solvers==0.1.dev5+g08bf4f6) (1.5.1)\n",
            "Requirement already satisfied: stevedore>=3.0.0 in /usr/local/lib/python3.10/dist-packages (from qiskit-terra>=0.21->quantum-linear-solvers==0.1.dev5+g08bf4f6) (5.0.0)\n",
            "Requirement already satisfied: rustworkx>=0.12.0 in /usr/local/lib/python3.10/dist-packages (from qiskit-terra>=0.21->quantum-linear-solvers==0.1.dev5+g08bf4f6) (0.12.1)\n",
            "Requirement already satisfied: dill>=0.3 in /usr/local/lib/python3.10/dist-packages (from qiskit-terra>=0.21->quantum-linear-solvers==0.1.dev5+g08bf4f6) (0.3.6)\n",
            "Requirement already satisfied: ply>=3.10 in /usr/local/lib/python3.10/dist-packages (from qiskit-terra>=0.21->quantum-linear-solvers==0.1.dev5+g08bf4f6) (3.11)\n",
            "Requirement already satisfied: symengine>=0.9 in /usr/local/lib/python3.10/dist-packages (from qiskit-terra>=0.21->quantum-linear-solvers==0.1.dev5+g08bf4f6) (0.10.0)\n",
            "Requirement already satisfied: sympy>=1.3 in /usr/local/lib/python3.10/dist-packages (from qiskit-terra>=0.21->quantum-linear-solvers==0.1.dev5+g08bf4f6) (1.11.1)\n",
            "Requirement already satisfied: zipp>=0.5 in /usr/local/lib/python3.10/dist-packages (from importlib-metadata->quantum-linear-solvers==0.1.dev5+g08bf4f6) (3.15.0)\n",
            "Requirement already satisfied: six>=1.5 in /usr/local/lib/python3.10/dist-packages (from python-dateutil>=2.8.0->qiskit-ibmq-provider->quantum-linear-solvers==0.1.dev5+g08bf4f6) (1.16.0)\n",
            "Requirement already satisfied: certifi>=2017.4.17 in /usr/local/lib/python3.10/dist-packages (from requests>=2.19->qiskit-ibmq-provider->quantum-linear-solvers==0.1.dev5+g08bf4f6) (2022.12.7)\n",
            "Requirement already satisfied: idna<4,>=2.5 in /usr/local/lib/python3.10/dist-packages (from requests>=2.19->qiskit-ibmq-provider->quantum-linear-solvers==0.1.dev5+g08bf4f6) (3.4)\n",
            "Requirement already satisfied: charset-normalizer~=2.0.0 in /usr/local/lib/python3.10/dist-packages (from requests>=2.19->qiskit-ibmq-provider->quantum-linear-solvers==0.1.dev5+g08bf4f6) (2.0.12)\n",
            "Requirement already satisfied: ntlm-auth>=1.0.2 in /usr/local/lib/python3.10/dist-packages (from requests-ntlm<=1.1.0->qiskit-ibmq-provider->quantum-linear-solvers==0.1.dev5+g08bf4f6) (1.5.0)\n",
            "Requirement already satisfied: cryptography>=1.3 in /usr/local/lib/python3.10/dist-packages (from requests-ntlm<=1.1.0->qiskit-ibmq-provider->quantum-linear-solvers==0.1.dev5+g08bf4f6) (40.0.2)\n",
            "Requirement already satisfied: pbr!=2.1.0,>=2.0.0 in /usr/local/lib/python3.10/dist-packages (from stevedore>=3.0.0->qiskit-terra>=0.21->quantum-linear-solvers==0.1.dev5+g08bf4f6) (5.11.1)\n",
            "Requirement already satisfied: mpmath>=0.19 in /usr/local/lib/python3.10/dist-packages (from sympy>=1.3->qiskit-terra>=0.21->quantum-linear-solvers==0.1.dev5+g08bf4f6) (1.3.0)\n",
            "Requirement already satisfied: cffi>=1.12 in /usr/local/lib/python3.10/dist-packages (from cryptography>=1.3->requests-ntlm<=1.1.0->qiskit-ibmq-provider->quantum-linear-solvers==0.1.dev5+g08bf4f6) (1.15.1)\n",
            "Requirement already satisfied: pycparser in /usr/local/lib/python3.10/dist-packages (from cffi>=1.12->cryptography>=1.3->requests-ntlm<=1.1.0->qiskit-ibmq-provider->quantum-linear-solvers==0.1.dev5+g08bf4f6) (2.21)\n",
            "Building wheels for collected packages: quantum-linear-solvers, mapomatic, pylatexenc\n",
            "  Building wheel for quantum-linear-solvers (pyproject.toml) ... \u001b[?25l\u001b[?25hdone\n",
            "  Created wheel for quantum-linear-solvers: filename=quantum_linear_solvers-0.1.dev5+g08bf4f6-py3-none-any.whl size=99974 sha256=6aca336eec3b69374f74c0c737aead51bdb4b5ee674c69218c09d95c3dae347a\n",
            "  Stored in directory: /tmp/pip-ephem-wheel-cache-9yjesq5f/wheels/30/d8/92/cb4d29e9df81859b5dee21f8e5ea214e2bdd8bfd66fc339fc2\n",
            "  Building wheel for mapomatic (setup.py) ... \u001b[?25l\u001b[?25hdone\n",
            "  Created wheel for mapomatic: filename=mapomatic-0.6.0-py3-none-any.whl size=14237 sha256=97b56571ac41c06f70b244d58e8d28efd0a8869befb67c4d45b74de6743ed147\n",
            "  Stored in directory: /root/.cache/pip/wheels/aa/ff/d7/423bca645cf1e933092cb5ff9c52a7b39db8e7542a74aecc8e\n",
            "  Building wheel for pylatexenc (setup.py) ... \u001b[?25l\u001b[?25hdone\n",
            "  Created wheel for pylatexenc: filename=pylatexenc-2.10-py3-none-any.whl size=136831 sha256=94d9c2281a2f6c82b344029db40f1dd550f5a0214811ac2431181c2ecff7f8cd\n",
            "  Stored in directory: /root/.cache/pip/wheels/d3/31/8b/e09b0386afd80cfc556c00408c9aeea5c35c4d484a9c762fd5\n",
            "Successfully built quantum-linear-solvers mapomatic pylatexenc\n",
            "Installing collected packages: pylatexenc, orjson, importlib-metadata, retworkx, mapomatic, mthree, quantum-linear-solvers\n",
            "Successfully installed importlib-metadata-6.6.0 mapomatic-0.6.0 mthree-0.24.0 orjson-3.8.11 pylatexenc-2.10 quantum-linear-solvers-0.1.dev5+g08bf4f6 retworkx-0.12.1\n"
          ]
        }
      ]
    },
    {
      "cell_type": "code",
      "source": [
        "import numpy as np\n",
        "from linear_solvers import NumPyLinearSolver, HHL\n",
        "matrix = np.array([ [1, -1/3], [-1/3, 1] ])\n",
        "vector = np.array([1, 0])\n",
        "naive_hhl_solution = HHL().solve(matrix, vector)"
      ],
      "metadata": {
        "id": "pReXz1qQEvXb"
      },
      "execution_count": 5,
      "outputs": []
    },
    {
      "cell_type": "code",
      "source": [
        "classical_solution = NumPyLinearSolver().solve(matrix,\n",
        "                                               vector/np.linalg.norm(vector))"
      ],
      "metadata": {
        "id": "-dlXprHSFvGu"
      },
      "execution_count": 6,
      "outputs": []
    },
    {
      "cell_type": "code",
      "source": [
        "print('classical state:', classical_solution.state)"
      ],
      "metadata": {
        "colab": {
          "base_uri": "https://localhost:8080/"
        },
        "id": "Bd0UAG4qEvk9",
        "outputId": "3625b136-860e-4f68-d4a6-b93458f5f348"
      },
      "execution_count": 7,
      "outputs": [
        {
          "output_type": "stream",
          "name": "stdout",
          "text": [
            "classical state: [1.125 0.375]\n"
          ]
        }
      ]
    },
    {
      "cell_type": "code",
      "source": [
        "print('naive state:')\n",
        "print(naive_hhl_solution.state)\n"
      ],
      "metadata": {
        "colab": {
          "base_uri": "https://localhost:8080/"
        },
        "id": "c-QlFUxPEvu4",
        "outputId": "237cd1ff-43e3-4133-f934-8706f7591412"
      },
      "execution_count": 8,
      "outputs": [
        {
          "output_type": "stream",
          "name": "stdout",
          "text": [
            "naive state:\n",
            "      ┌────────────┐┌──────┐        ┌─────────┐\n",
            "  q4: ┤ circuit-95 ├┤3     ├────────┤3        ├\n",
            "      └────────────┘│      │┌──────┐│         │\n",
            "q5_0: ──────────────┤0     ├┤2     ├┤0        ├\n",
            "                    │  QPE ││      ││  QPE_dg │\n",
            "q5_1: ──────────────┤1     ├┤1     ├┤1        ├\n",
            "                    │      ││  1/x ││         │\n",
            "q5_2: ──────────────┤2     ├┤0     ├┤2        ├\n",
            "                    └──────┘│      │└─────────┘\n",
            "  q6: ──────────────────────┤3     ├───────────\n",
            "                            └──────┘           \n"
          ]
        }
      ]
    },
    {
      "cell_type": "code",
      "source": [
        "print('classical Euclidean norm:', classical_solution.euclidean_norm)\n",
        "print('naive Euclidean norm:', naive_hhl_solution.euclidean_norm)\n"
      ],
      "metadata": {
        "colab": {
          "base_uri": "https://localhost:8080/"
        },
        "id": "x9LnLdsiEv3H",
        "outputId": "fc1db40a-3610-4e0e-8d0c-9bc68f5c56fb"
      },
      "execution_count": 9,
      "outputs": [
        {
          "output_type": "stream",
          "name": "stdout",
          "text": [
            "classical Euclidean norm: 1.1858541225631423\n",
            "naive Euclidean norm: 1.1858541225631376\n"
          ]
        }
      ]
    },
    {
      "cell_type": "code",
      "source": [
        "from qiskit.quantum_info import Statevector\n",
        "\n",
        "naive_sv = Statevector(naive_hhl_solution.state).data\n",
        "\n",
        "\n",
        "# Extract vector components; 10000(bin) == 16 & 10001(bin) == 17\n",
        "naive_full_vector = np.array([naive_sv[16], naive_sv[17] ])\n",
        "\n",
        "\n",
        "print('naive raw solution vector:', naive_full_vector)\n"
      ],
      "metadata": {
        "colab": {
          "base_uri": "https://localhost:8080/"
        },
        "id": "nXjjCF8CIKFM",
        "outputId": "14f2b569-7138-4ba7-887d-c4c7c72e9102"
      },
      "execution_count": 12,
      "outputs": [
        {
          "output_type": "stream",
          "name": "stdout",
          "text": [
            "naive raw solution vector: [0.75+3.01063111e-16j 0.25+3.36951198e-17j]\n"
          ]
        }
      ]
    },
    {
      "cell_type": "code",
      "source": [
        "def get_solution_vector(solution):\n",
        "    \"\"\"Extracts and normalizes simulated state vector\n",
        "    from LinearSolverResult.\"\"\"\n",
        "    solution_vector = Statevector(solution.state).data[16:18].real\n",
        "    norm = solution.euclidean_norm\n",
        "    return norm * solution_vector / np.linalg.norm(solution_vector)\n",
        "\n",
        "print('full naive solution vector:', get_solution_vector(naive_hhl_solution))\n",
        "\n",
        "print('classical state:', classical_solution.state)"
      ],
      "metadata": {
        "colab": {
          "base_uri": "https://localhost:8080/"
        },
        "id": "-Y38oLGtIKa0",
        "outputId": "74b2a787-7791-4e84-a851-c19b310af00f"
      },
      "execution_count": 13,
      "outputs": [
        {
          "output_type": "stream",
          "name": "stdout",
          "text": [
            "full naive solution vector: [1.125 0.375]\n",
            "classical state: [1.125 0.375]\n"
          ]
        }
      ]
    },
    {
      "cell_type": "code",
      "source": [
        "#new example\n",
        "import numpy as np\n",
        "from linear_solvers import NumPyLinearSolver, HHL\n",
        "matrix = np.array([ [1, -1/2], [-1/2, 1] ])\n",
        "vector = np.array([1, 0])\n",
        "naive_hhl_solution = HHL().solve(matrix, vector)"
      ],
      "metadata": {
        "id": "UMsaUWcGMOLD"
      },
      "execution_count": 23,
      "outputs": []
    },
    {
      "cell_type": "code",
      "source": [
        "classical_solution = NumPyLinearSolver().solve(matrix,\n",
        "                                               vector/np.linalg.norm(vector))"
      ],
      "metadata": {
        "id": "Ks-ctUsuMOjH"
      },
      "execution_count": 24,
      "outputs": []
    },
    {
      "cell_type": "code",
      "source": [
        "print('classical state:', classical_solution.state)"
      ],
      "metadata": {
        "colab": {
          "base_uri": "https://localhost:8080/"
        },
        "id": "Y1ZrfaAiMO3e",
        "outputId": "253a0db3-08d9-476b-9d23-4fda879f3231"
      },
      "execution_count": 25,
      "outputs": [
        {
          "output_type": "stream",
          "name": "stdout",
          "text": [
            "classical state: [1.33333333 0.66666667]\n"
          ]
        }
      ]
    },
    {
      "cell_type": "code",
      "source": [
        "print('naive state:')\n",
        "print(naive_hhl_solution.state)"
      ],
      "metadata": {
        "colab": {
          "base_uri": "https://localhost:8080/"
        },
        "id": "mcEn1_OXMPBZ",
        "outputId": "e1900f92-9aad-4b37-a951-c81ebe1e6121"
      },
      "execution_count": 26,
      "outputs": [
        {
          "output_type": "stream",
          "name": "stdout",
          "text": [
            "naive state:\n",
            "        ┌─────────────┐┌──────┐        ┌─────────┐\n",
            "  q101: ┤ circuit-804 ├┤3     ├────────┤3        ├\n",
            "        └─────────────┘│      │┌──────┐│         │\n",
            "q102_0: ───────────────┤0     ├┤2     ├┤0        ├\n",
            "                       │  QPE ││      ││  QPE_dg │\n",
            "q102_1: ───────────────┤1     ├┤1     ├┤1        ├\n",
            "                       │      ││  1/x ││         │\n",
            "q102_2: ───────────────┤2     ├┤0     ├┤2        ├\n",
            "                       └──────┘│      │└─────────┘\n",
            "  q103: ───────────────────────┤3     ├───────────\n",
            "                               └──────┘           \n"
          ]
        }
      ]
    },
    {
      "cell_type": "code",
      "source": [
        "print('classical Euclidean norm:', classical_solution.euclidean_norm)\n",
        "print('naive Euclidean norm:', naive_hhl_solution.euclidean_norm)"
      ],
      "metadata": {
        "colab": {
          "base_uri": "https://localhost:8080/"
        },
        "id": "itTJedl_MPEx",
        "outputId": "a37631bb-fb05-4335-b27a-8e574470e221"
      },
      "execution_count": 27,
      "outputs": [
        {
          "output_type": "stream",
          "name": "stdout",
          "text": [
            "classical Euclidean norm: 1.4907119849998598\n",
            "naive Euclidean norm: 1.490711984999856\n"
          ]
        }
      ]
    },
    {
      "cell_type": "code",
      "source": [
        "from qiskit.quantum_info import Statevector\n",
        "\n",
        "naive_sv = Statevector(naive_hhl_solution.state).data\n",
        "\n",
        "\n",
        "# Extract vector components; 10000(bin) == 16 & 10001(bin) == 17\n",
        "naive_full_vector = np.array([naive_sv[16], naive_sv[17] ])\n",
        "\n",
        "\n",
        "print('naive raw solution vector:', naive_full_vector)"
      ],
      "metadata": {
        "colab": {
          "base_uri": "https://localhost:8080/"
        },
        "id": "EFG8YZ-1MPIL",
        "outputId": "fa767dcf-d2c4-4543-d1dd-cecb64653545"
      },
      "execution_count": 28,
      "outputs": [
        {
          "output_type": "stream",
          "name": "stdout",
          "text": [
            "naive raw solution vector: [0.66666667-1.24521253e-15j 0.33333333-6.68640559e-16j]\n"
          ]
        }
      ]
    },
    {
      "cell_type": "code",
      "source": [
        "def get_solution_vector(solution):\n",
        "    \"\"\"Extracts and normalizes simulated state vector\n",
        "    from LinearSolverResult.\"\"\"\n",
        "    solution_vector = Statevector(solution.state).data[16:18].real\n",
        "    norm = solution.euclidean_norm\n",
        "    return norm * solution_vector / np.linalg.norm(solution_vector)\n",
        "\n",
        "print('full naive solution vector:', get_solution_vector(naive_hhl_solution))\n",
        "\n",
        "print('classical state:', classical_solution.state)"
      ],
      "metadata": {
        "colab": {
          "base_uri": "https://localhost:8080/"
        },
        "id": "wpyBlpOqMPL4",
        "outputId": "149caae1-3422-493b-aba3-ca57497bbee8"
      },
      "execution_count": 29,
      "outputs": [
        {
          "output_type": "stream",
          "name": "stdout",
          "text": [
            "full naive solution vector: [1.33333333 0.66666667]\n",
            "classical state: [1.33333333 0.66666667]\n"
          ]
        }
      ]
    },
    {
      "cell_type": "code",
      "source": [],
      "metadata": {
        "id": "lkCiE3dcMPPO"
      },
      "execution_count": null,
      "outputs": []
    }
  ]
}